{
  "nbformat": 4,
  "nbformat_minor": 0,
  "metadata": {
    "colab": {
      "provenance": []
    },
    "kernelspec": {
      "name": "python3",
      "display_name": "Python 3"
    },
    "language_info": {
      "name": "python"
    }
  },
  "cells": [
    {
      "cell_type": "markdown",
      "source": [
        "8 - Para una selección de productos alimenticios, debemos separar el conjunto de IDs proporcionados por números enteros, sabiendo que los productos con ID par son dulces y los que tienen ID impar son amargos. Crea un código que recoja 10 IDs. Luego, calcula y muestra la cantidad de productos dulces y amargos."
      ],
      "metadata": {
        "id": "2zez3i2rcnJF"
      }
    },
    {
      "cell_type": "code",
      "source": [
        "# Vamos a crear una lista para almacenar 10 IDs.\n",
        "ids = []\n",
        "\n",
        "# Recoger 10 IDs ingresados por el usuario.\n",
        "for i in range(10):\n",
        "    id = int(input(f\"Ingrese el ID {i + 1}: \"))\n",
        "    ids.append(id)\n",
        "\n",
        "# Contadores para dulces y amargos\n",
        "dulces = 0\n",
        "amargos = 0\n",
        "\n",
        "# Clasificar cada ID\n",
        "for id in ids:\n",
        "    if id % 2 == 0:\n",
        "        dulces += 1\n",
        "    else:\n",
        "        amargos += 1\n",
        "\n",
        "# Mostrar resultados\n",
        "print(\"\\nResultados:\")\n",
        "print(f\"Productos dulces (ID par): {dulces}\")\n",
        "print(f\"Productos amargos (ID impar): {amargos}\")"
      ],
      "metadata": {
        "colab": {
          "base_uri": "https://localhost:8080/"
        },
        "id": "9NhYkwivcrAc",
        "outputId": "a30069be-a750-4d6f-c9da-cb457d92398d"
      },
      "execution_count": 3,
      "outputs": [
        {
          "output_type": "stream",
          "name": "stdout",
          "text": [
            "Ingrese el ID 1: 2\n",
            "Ingrese el ID 2: 5\n",
            "Ingrese el ID 3: 8\n",
            "Ingrese el ID 4: 11\n",
            "Ingrese el ID 5: 14\n",
            "Ingrese el ID 6: 3\n",
            "Ingrese el ID 7: 6\n",
            "Ingrese el ID 8: 7\n",
            "Ingrese el ID 9: 10\n",
            "Ingrese el ID 10: 13\n",
            "\n",
            "Resultados:\n",
            "Productos dulces (ID par): 5\n",
            "Productos amargos (ID impar): 5\n"
          ]
        }
      ]
    }
  ]
}